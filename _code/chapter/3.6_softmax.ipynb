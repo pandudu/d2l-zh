{
 "cells": [
  {
   "cell_type": "markdown",
   "source": [
    "# softmax 回归从零开始实现\n",
    "\n"
   ],
   "metadata": {
    "collapsed": false,
    "pycharm": {
     "name": "#%% md\n"
    }
   }
  },
  {
   "cell_type": "code",
   "execution_count": 2,
   "outputs": [],
   "source": [
    "# 导包\n",
    "\n",
    "%matplotlib inline\n",
    "import d2lzh as d2l\n",
    "from mxnet import autograd,nd\n"
   ],
   "metadata": {
    "collapsed": false,
    "pycharm": {
     "name": "#%%\n",
     "is_executing": false
    }
   }
  },
  {
   "cell_type": "code",
   "execution_count": null,
   "outputs": [
    {
     "name": "stdout",
     "text": [
      "Downloading /Users/dupan/.mxnet/datasets/fashion-mnist/train-images-idx3-ubyte.gz from https://apache-mxnet.s3-accelerate.dualstack.amazonaws.com/gluon/dataset/fashion-mnist/train-images-idx3-ubyte.gz...\n"
     ],
     "output_type": "stream"
    }
   ],
   "source": [
    "# 读取数据集\n",
    "\n",
    "## 使用Fashion-MNIST数据集,并设置批量大小为256\n",
    "batch_size = 256\n",
    "train_iter,test_iter = d2l.load_data_fashion_mnist(batch_size=batch_size)\n"
   ],
   "metadata": {
    "collapsed": false,
    "pycharm": {
     "name": "#%%\n",
     "is_executing": true
    }
   }
  },
  {
   "cell_type": "code",
   "execution_count": null,
   "outputs": [],
   "source": [
    "# 初始化模型参数\n",
    "\n",
    "## 已知每个样本输入是高和宽均为28像素的图像\n",
    "## 模型的输入向量的长度是28x28=784:该向量的每个元素对应图像中每个像素\n",
    "## softmax回归的权重和偏差参数分别为784x10和1x10的矩阵\n",
    "num_inputs = 784\n",
    "num_outputs = 10\n",
    "\n",
    "W = nd.random.normal(scale=0.01,shape=(num_inputs,num_outputs))\n",
    "b = nd.zeros(num_outputs)\n",
    "\n",
    "W.attach_grad()\n",
    "b.attach_grad()\n"
   ],
   "metadata": {
    "collapsed": false,
    "pycharm": {
     "name": "#%%\n"
    }
   }
  },
  {
   "cell_type": "code",
   "execution_count": 6,
   "outputs": [
    {
     "name": "stdout",
     "text": [
      "\n[[ 1.8307649  -1.1468065   0.05383795 -2.5074806  -0.59164983]\n [ 0.8586049  -0.22794184  0.20131476  0.35005474  0.5360521 ]]\n<NDArray 2x5 @cpu(0)>\n"
     ],
     "output_type": "stream"
    },
    {
     "data": {
      "text/plain": "(\n [[0.7565211  0.03851929 0.12797098 0.00987973 0.06710884]\n  [0.3143371  0.10605092 0.16290642 0.18903191 0.22767363]]\n <NDArray 2x5 @cpu(0)>,\n \n [0.99999994 1.        ]\n <NDArray 2 @cpu(0)>)"
     },
     "metadata": {},
     "output_type": "execute_result",
     "execution_count": 6
    }
   ],
   "source": [
    "# 实现softmax运算\n",
    "\n",
    "X = nd.array([[1,2,3],[4,5,6]])\n",
    "X.sum(axis=0,keepdims=True),X.sum(axis=1,keepdims=True)\n",
    "\n",
    "def softmax(X):\n",
    "    X_exp = X.exp()\n",
    "    partitioin = X_exp.sum(axis=1,keepdims=True)\n",
    "    return X_exp / partitioin # 这里应用了广播机制\n",
    "    \n",
    "## 对于随机输入,将每个元素变成了非负数,且每行和为1\n",
    "X = nd.random.normal(shape=(2,5))\n",
    "print(X)\n",
    "X_prob = softmax(X)\n",
    "X_prob,X_prob.sum(axis=1)\n"
   ],
   "metadata": {
    "collapsed": false,
    "pycharm": {
     "name": "#%%\n",
     "is_executing": false
    }
   }
  },
  {
   "cell_type": "code",
   "execution_count": 7,
   "outputs": [],
   "source": [
    "# 定义模型\n",
    "\n",
    "def net(X):\n",
    "    return softmax(nd.dot(X.reshape((-1,num_inputs)),W) + b)\n"
   ],
   "metadata": {
    "collapsed": false,
    "pycharm": {
     "name": "#%%\n",
     "is_executing": false
    }
   }
  },
  {
   "cell_type": "code",
   "execution_count": 9,
   "outputs": [],
   "source": [
    "# 定义损失函数 : 交叉熵损失函数\n",
    "\n",
    "y_hat = nd.array([[0.1,0.3,0.6],[0.3,0.3,0.5]])\n",
    "y = nd.array([0,2],dtype='int32')\n",
    "nd.pick(y_hat,y)\n",
    "\n",
    "def cross_entropy(y_hat,y):\n",
    "    return -nd.pick(y_hat,y).log()\n",
    "\n"
   ],
   "metadata": {
    "collapsed": false,
    "pycharm": {
     "name": "#%%\n",
     "is_executing": false
    }
   }
  },
  {
   "cell_type": "code",
   "execution_count": 11,
   "outputs": [
    {
     "traceback": [
      "\u001b[0;31m---------------------------------------------------------------------------\u001b[0m",
      "\u001b[0;31mNameError\u001b[0m                                 Traceback (most recent call last)",
      "\u001b[0;32m<ipython-input-11-ece3b94b3b26>\u001b[0m in \u001b[0;36m<module>\u001b[0;34m\u001b[0m\n\u001b[1;32m     19\u001b[0m     \u001b[0;32mreturn\u001b[0m \u001b[0macc_sum\u001b[0m \u001b[0;34m/\u001b[0m \u001b[0mn\u001b[0m\u001b[0;34m\u001b[0m\u001b[0;34m\u001b[0m\u001b[0m\n\u001b[1;32m     20\u001b[0m \u001b[0;34m\u001b[0m\u001b[0m\n\u001b[0;32m---> 21\u001b[0;31m \u001b[0mevaluate_accuracy\u001b[0m\u001b[0;34m(\u001b[0m\u001b[0mtest_iter\u001b[0m\u001b[0;34m,\u001b[0m\u001b[0mnet\u001b[0m\u001b[0;34m)\u001b[0m\u001b[0;34m\u001b[0m\u001b[0;34m\u001b[0m\u001b[0m\n\u001b[0m\u001b[1;32m     22\u001b[0m \u001b[0;34m\u001b[0m\u001b[0m\n\u001b[1;32m     23\u001b[0m \u001b[0;34m\u001b[0m\u001b[0m\n",
      "\u001b[0;31mNameError\u001b[0m: name 'test_iter' is not defined"
     ],
     "ename": "NameError",
     "evalue": "name 'test_iter' is not defined",
     "output_type": "error"
    }
   ],
   "source": [
    "# 计算分类准确性\n",
    "\n",
    "## 给定一个类别的预测概率分布y_hat,把预测概率最大的类别作为输出类别.如果它与真实类别y一致,说明这次预测是正确的\n",
    "## 分类准确率 = 正确预测数量/总预测数量\n",
    "\n",
    "def accuracy(y_hat,y):\n",
    "    return (y_hat.argmax(axis=1) == y.astype('float32')).mean().asscalar()\n",
    "\n",
    "accuracy(y_hat,y)\n",
    "\n",
    "## 评价模型net在数据集data_iter上的准确率\n",
    "\n",
    "def evaluate_accuracy(data_iter,net):\n",
    "    acc_sum,n = 0.0,0\n",
    "    for X,y in data_iter:\n",
    "        y = y.astype('float32')\n",
    "        acc_sum += (net(X).argmax(axis=1) == y).sum().asscalar()\n",
    "        n += y.size\n",
    "    return acc_sum / n\n",
    "\n",
    "evaluate_accuracy(test_iter,net)\n",
    "        \n"
   ],
   "metadata": {
    "collapsed": false,
    "pycharm": {
     "name": "#%%\n",
     "is_executing": false
    }
   }
  },
  {
   "cell_type": "code",
   "execution_count": null,
   "outputs": [],
   "source": [
    "\n",
    "\n",
    "\n",
    "\n"
   ],
   "metadata": {
    "collapsed": false,
    "pycharm": {
     "name": "#%%\n"
    }
   }
  },
  {
   "cell_type": "code",
   "execution_count": null,
   "metadata": {
    "collapsed": true
   },
   "outputs": [],
   "source": [
    "\n",
    "\n",
    "\n",
    "\n",
    "\n"
   ]
  }
 ],
 "metadata": {
  "language_info": {
   "codemirror_mode": {
    "name": "ipython",
    "version": 2
   },
   "file_extension": ".py",
   "mimetype": "text/x-python",
   "name": "python",
   "nbconvert_exporter": "python",
   "pygments_lexer": "ipython2",
   "version": "2.7.6"
  },
  "kernelspec": {
   "name": "python3",
   "language": "python",
   "display_name": "Python 3"
  },
  "pycharm": {
   "stem_cell": {
    "cell_type": "raw",
    "source": [],
    "metadata": {
     "collapsed": false
    }
   }
  }
 },
 "nbformat": 4,
 "nbformat_minor": 0
}